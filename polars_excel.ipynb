{
 "cells": [
  {
   "cell_type": "code",
   "execution_count": 2,
   "id": "bc1d6bee-fd41-436e-aa6a-d83af88e4b05",
   "metadata": {},
   "outputs": [],
   "source": [
    "import polars as pl; import numpy as np; import os; os.chdir(\"../excel_files\")"
   ]
  },
  {
   "cell_type": "code",
   "execution_count": 3,
   "id": "21697562-d6d7-4c4b-abbe-832b72d8e896",
   "metadata": {},
   "outputs": [
    {
     "data": {
      "text/plain": [
       "['Asian Games Research (2006-2034).xlsx',\n",
       " 'The World Games 2022 Monitoring & Evaluation Data.xlsx',\n",
       " 'ticket_sales_report2.xlsx',\n",
       " 'IAAF U20 Tampere_TSC Spectator Survey.xlsx',\n",
       " 'ticket_sales.xlsx',\n",
       " 'FEI World Cup Finales Paris 2018_ Data Requierments_GL events.xlsx',\n",
       " '2021 TWG2022 ANALYTICS.xlsx',\n",
       " 'Social Media Tracker - UWW World Championship 2017 - Charts.xlsx',\n",
       " 'Neuchatel2019_Ticketing_Analysis.xlsx',\n",
       " 'Accreditation Report - Example 1.xlsx',\n",
       " 'Prague 2018 - Data Templates - Accreditation figures.xlsx']"
      ]
     },
     "execution_count": 3,
     "metadata": {},
     "output_type": "execute_result"
    }
   ],
   "source": [
    "os.listdir()"
   ]
  },
  {
   "cell_type": "code",
   "execution_count": 8,
   "id": "2a092149-f662-4494-a76b-d99e9d160f73",
   "metadata": {},
   "outputs": [
    {
     "data": {
      "text/html": [
       "<div><style>\n",
       ".dataframe > thead > tr,\n",
       ".dataframe > tbody > tr {\n",
       "  text-align: right;\n",
       "  white-space: pre-wrap;\n",
       "}\n",
       "</style>\n",
       "<small>shape: (9, 70)</small><table border=\"1\" class=\"dataframe\"><thead><tr><th>statistic</th><th>event_name</th><th>tm_event_name</th><th>section_name</th><th>tm_section_name</th><th>row_name</th><th>tm_row_name</th><th>seat_num</th><th>last_seat</th><th>num_seats</th><th>acct_id</th><th>name</th><th>price_code</th><th>paid</th><th>printed</th><th>group_flag</th><th>consignment</th><th>comp</th><th>full_price</th><th>block_full_price</th><th>purchase_price</th><th>block_purchase_price</th><th>disc_code</th><th>pricing_total_events</th><th>disc_amount</th><th>surchg_code</th><th>surchg_amount</th><th>pc_ticket</th><th>pc_tax</th><th>pc_licfee</th><th>pc_other1</th><th>pc_other2</th><th>pc_other3</th><th>pc_other4</th><th>pc_other5</th><th>pc_other6</th><th>pc_other7</th><th>pc_other8</th><th>paid_amount</th><th>acct_type_desc</th><th>tag</th><th>add_datetime</th><th>acct_rep_id</th><th>acct_rep_full_name</th><th>ticket_type</th><th>ticket_type_category</th><th>retail_mask</th><th>retail_ticket_type</th><th>retail_qualifiers</th><th>retail_price_level</th><th>ledger_code</th><th>sub_plan_event_name</th><th>order_num</th><th>order_line_item</th><th>order_line_item_seq</th><th>sales_source_name</th><th>plan_event_name</th><th>event_sort</th><th>section_sort</th><th>section_name_right</th><th>row_sort</th><th>row_name_right</th><th>pc_color</th><th>add_usr</th><th>seat_increment</th><th>event_id</th><th>section_id</th><th>row_id</th><th>privacy_restrict</th><th>privacy_opt_out</th></tr><tr><td>str</td><td>str</td><td>str</td><td>str</td><td>str</td><td>str</td><td>str</td><td>f64</td><td>f64</td><td>f64</td><td>f64</td><td>f64</td><td>str</td><td>str</td><td>f64</td><td>str</td><td>str</td><td>str</td><td>f64</td><td>f64</td><td>f64</td><td>f64</td><td>str</td><td>f64</td><td>f64</td><td>f64</td><td>f64</td><td>f64</td><td>f64</td><td>f64</td><td>f64</td><td>f64</td><td>f64</td><td>f64</td><td>f64</td><td>f64</td><td>f64</td><td>f64</td><td>f64</td><td>str</td><td>f64</td><td>str</td><td>f64</td><td>str</td><td>str</td><td>str</td><td>f64</td><td>f64</td><td>f64</td><td>f64</td><td>str</td><td>f64</td><td>f64</td><td>f64</td><td>f64</td><td>f64</td><td>str</td><td>f64</td><td>f64</td><td>str</td><td>f64</td><td>str</td><td>f64</td><td>str</td><td>f64</td><td>f64</td><td>f64</td><td>f64</td><td>f64</td><td>str</td></tr></thead><tbody><tr><td>&quot;count&quot;</td><td>&quot;102577&quot;</td><td>&quot;102577&quot;</td><td>&quot;102577&quot;</td><td>&quot;102577&quot;</td><td>&quot;102577&quot;</td><td>&quot;102577&quot;</td><td>102577.0</td><td>102577.0</td><td>102577.0</td><td>102577.0</td><td>0.0</td><td>&quot;102577&quot;</td><td>&quot;102577&quot;</td><td>102577.0</td><td>&quot;102577&quot;</td><td>&quot;102577&quot;</td><td>&quot;102577&quot;</td><td>102577.0</td><td>102577.0</td><td>102577.0</td><td>102577.0</td><td>&quot;14747&quot;</td><td>102577.0</td><td>102577.0</td><td>0.0</td><td>102577.0</td><td>102577.0</td><td>102577.0</td><td>102577.0</td><td>102577.0</td><td>102577.0</td><td>102577.0</td><td>102577.0</td><td>102577.0</td><td>102577.0</td><td>102577.0</td><td>102577.0</td><td>102577.0</td><td>&quot;102577&quot;</td><td>0.0</td><td>&quot;102577&quot;</td><td>102577.0</td><td>&quot;102577&quot;</td><td>&quot;102577&quot;</td><td>&quot;95417&quot;</td><td>0.0</td><td>0.0</td><td>0.0</td><td>0.0</td><td>&quot;95598&quot;</td><td>0.0</td><td>95598.0</td><td>95598.0</td><td>95598.0</td><td>0.0</td><td>&quot;23030&quot;</td><td>102577.0</td><td>102577.0</td><td>&quot;102577&quot;</td><td>102577.0</td><td>&quot;102577&quot;</td><td>102577.0</td><td>&quot;102577&quot;</td><td>102577.0</td><td>102577.0</td><td>102577.0</td><td>102577.0</td><td>0.0</td><td>&quot;47524&quot;</td></tr><tr><td>&quot;null_count&quot;</td><td>&quot;0&quot;</td><td>&quot;0&quot;</td><td>&quot;0&quot;</td><td>&quot;0&quot;</td><td>&quot;0&quot;</td><td>&quot;0&quot;</td><td>0.0</td><td>0.0</td><td>0.0</td><td>0.0</td><td>102577.0</td><td>&quot;0&quot;</td><td>&quot;0&quot;</td><td>0.0</td><td>&quot;0&quot;</td><td>&quot;0&quot;</td><td>&quot;0&quot;</td><td>0.0</td><td>0.0</td><td>0.0</td><td>0.0</td><td>&quot;87830&quot;</td><td>0.0</td><td>0.0</td><td>102577.0</td><td>0.0</td><td>0.0</td><td>0.0</td><td>0.0</td><td>0.0</td><td>0.0</td><td>0.0</td><td>0.0</td><td>0.0</td><td>0.0</td><td>0.0</td><td>0.0</td><td>0.0</td><td>&quot;0&quot;</td><td>102577.0</td><td>&quot;0&quot;</td><td>0.0</td><td>&quot;0&quot;</td><td>&quot;0&quot;</td><td>&quot;7160&quot;</td><td>102577.0</td><td>102577.0</td><td>102577.0</td><td>102577.0</td><td>&quot;6979&quot;</td><td>102577.0</td><td>6979.0</td><td>6979.0</td><td>6979.0</td><td>102577.0</td><td>&quot;79547&quot;</td><td>0.0</td><td>0.0</td><td>&quot;0&quot;</td><td>0.0</td><td>&quot;0&quot;</td><td>0.0</td><td>&quot;0&quot;</td><td>0.0</td><td>0.0</td><td>0.0</td><td>0.0</td><td>102577.0</td><td>&quot;55053&quot;</td></tr><tr><td>&quot;mean&quot;</td><td>null</td><td>null</td><td>null</td><td>null</td><td>null</td><td>null</td><td>227.441424</td><td>229.942102</td><td>3.500678</td><td>349205.827525</td><td>null</td><td>null</td><td>null</td><td>0.145569</td><td>null</td><td>null</td><td>null</td><td>17.715229</td><td>38.64087</td><td>17.736593</td><td>38.688297</td><td>null</td><td>1.0</td><td>0.0</td><td>null</td><td>0.047427</td><td>28.800504</td><td>0.000487</td><td>1.962747</td><td>2.456191</td><td>0.0</td><td>0.0</td><td>0.0</td><td>0.0</td><td>0.0</td><td>0.0</td><td>0.047427</td><td>38.664956</td><td>null</td><td>null</td><td>&quot;2022-05-05 08:53:22.963000&quot;</td><td>-4.0</td><td>null</td><td>null</td><td>null</td><td>null</td><td>null</td><td>null</td><td>null</td><td>null</td><td>null</td><td>46680.38845</td><td>2.140003</td><td>1.768395</td><td>null</td><td>null</td><td>0.170721</td><td>259.181083</td><td>null</td><td>73.149341</td><td>null</td><td>1.0501e7</td><td>null</td><td>1.0</td><td>195.982511</td><td>862.588319</td><td>7.369371</td><td>null</td><td>null</td></tr><tr><td>&quot;std&quot;</td><td>null</td><td>null</td><td>null</td><td>null</td><td>null</td><td>null</td><td>339.625977</td><td>340.635123</td><td>5.293507</td><td>178903.628536</td><td>null</td><td>null</td><td>null</td><td>0.561604</td><td>null</td><td>null</td><td>null</td><td>22.997599</td><td>65.470176</td><td>23.019922</td><td>65.529799</td><td>null</td><td>0.0</td><td>0.0</td><td>null</td><td>3.372908</td><td>56.068023</td><td>0.052616</td><td>3.639109</td><td>4.335191</td><td>0.0</td><td>0.0</td><td>0.0</td><td>0.0</td><td>0.0</td><td>0.0</td><td>3.372908</td><td>65.526773</td><td>null</td><td>null</td><td>null</td><td>0.0</td><td>null</td><td>null</td><td>null</td><td>null</td><td>null</td><td>null</td><td>null</td><td>null</td><td>null</td><td>32488.15029</td><td>3.647419</td><td>1.835565</td><td>null</td><td>null</td><td>0.376266</td><td>153.955419</td><td>null</td><td>66.290589</td><td>null</td><td>7.8111e6</td><td>null</td><td>0.0</td><td>85.270923</td><td>545.154843</td><td>7.149504</td><td>null</td><td>null</td></tr><tr><td>&quot;min&quot;</td><td>&quot;22AIR&quot;</td><td>&quot;22AIR&quot;</td><td>&quot;101&quot;</td><td>&quot;101&quot;</td><td>&quot;1&quot;</td><td>&quot;1&quot;</td><td>1.0</td><td>1.0</td><td>1.0</td><td>49999.0</td><td>null</td><td>&quot;A&quot;</td><td>&quot;N&quot;</td><td>0.0</td><td>&quot;N&quot;</td><td>&quot;N&quot;</td><td>&quot;N&quot;</td><td>0.0</td><td>0.0</td><td>0.0</td><td>0.0</td><td>&quot;$&quot;</td><td>1.0</td><td>0.0</td><td>null</td><td>0.0</td><td>0.0</td><td>0.0</td><td>0.0</td><td>0.0</td><td>0.0</td><td>0.0</td><td>0.0</td><td>0.0</td><td>0.0</td><td>0.0</td><td>0.0</td><td>0.0</td><td>&quot;Personal&quot;</td><td>null</td><td>&quot;2021-06-29&quot;</td><td>-4.0</td><td>&quot;Default Account Rep&quot;</td><td>&quot;10% Discount&quot;</td><td>&quot;Child Pricing&quot;</td><td>null</td><td>null</td><td>null</td><td>null</td><td>&quot;GEN&quot;</td><td>null</td><td>77.0</td><td>1.0</td><td>1.0</td><td>null</td><td>&quot;22AIR&quot;</td><td>0.0</td><td>1.0</td><td>&quot;101&quot;</td><td>10.0</td><td>&quot;1&quot;</td><td>0.0</td><td>&quot;AMORALES&quot;</td><td>1.0</td><td>1.0</td><td>2.0</td><td>1.0</td><td>null</td><td>&quot;N&quot;</td></tr><tr><td>&quot;25%&quot;</td><td>null</td><td>null</td><td>null</td><td>null</td><td>null</td><td>null</td><td>9.0</td><td>12.0</td><td>2.0</td><td>215087.0</td><td>null</td><td>null</td><td>null</td><td>0.0</td><td>null</td><td>null</td><td>null</td><td>0.0</td><td>0.0</td><td>0.0</td><td>0.0</td><td>null</td><td>1.0</td><td>0.0</td><td>null</td><td>0.0</td><td>0.0</td><td>0.0</td><td>0.0</td><td>0.0</td><td>0.0</td><td>0.0</td><td>0.0</td><td>0.0</td><td>0.0</td><td>0.0</td><td>0.0</td><td>0.0</td><td>null</td><td>null</td><td>&quot;2022-02-24&quot;</td><td>-4.0</td><td>null</td><td>null</td><td>null</td><td>null</td><td>null</td><td>null</td><td>null</td><td>null</td><td>null</td><td>17546.0</td><td>1.0</td><td>1.0</td><td>null</td><td>null</td><td>0.0</td><td>120.0</td><td>null</td><td>30.0</td><td>null</td><td>255.0</td><td>null</td><td>1.0</td><td>130.0</td><td>439.0</td><td>3.0</td><td>null</td><td>null</td></tr><tr><td>&quot;50%&quot;</td><td>null</td><td>null</td><td>null</td><td>null</td><td>null</td><td>null</td><td>151.0</td><td>152.0</td><td>2.0</td><td>297609.0</td><td>null</td><td>null</td><td>null</td><td>0.0</td><td>null</td><td>null</td><td>null</td><td>0.0</td><td>0.0</td><td>0.0</td><td>0.0</td><td>null</td><td>1.0</td><td>0.0</td><td>null</td><td>0.0</td><td>0.0</td><td>0.0</td><td>0.0</td><td>0.0</td><td>0.0</td><td>0.0</td><td>0.0</td><td>0.0</td><td>0.0</td><td>0.0</td><td>0.0</td><td>0.0</td><td>null</td><td>null</td><td>&quot;2022-06-14&quot;</td><td>-4.0</td><td>null</td><td>null</td><td>null</td><td>null</td><td>null</td><td>null</td><td>null</td><td>null</td><td>null</td><td>37149.0</td><td>1.0</td><td>1.0</td><td>null</td><td>null</td><td>0.0</td><td>230.0</td><td>null</td><td>60.0</td><td>null</td><td>1.6777215e7</td><td>null</td><td>1.0</td><td>229.0</td><td>843.0</td><td>6.0</td><td>null</td><td>null</td></tr><tr><td>&quot;75%&quot;</td><td>null</td><td>null</td><td>null</td><td>null</td><td>null</td><td>null</td><td>237.0</td><td>238.0</td><td>4.0</td><td>430249.0</td><td>null</td><td>null</td><td>null</td><td>0.0</td><td>null</td><td>null</td><td>null</td><td>29.75</td><td>59.5</td><td>29.75</td><td>59.5</td><td>null</td><td>1.0</td><td>0.0</td><td>null</td><td>0.0</td><td>40.0</td><td>0.0</td><td>4.0</td><td>5.5</td><td>0.0</td><td>0.0</td><td>0.0</td><td>0.0</td><td>0.0</td><td>0.0</td><td>0.0</td><td>59.5</td><td>null</td><td>null</td><td>&quot;2022-07-08&quot;</td><td>-4.0</td><td>null</td><td>null</td><td>null</td><td>null</td><td>null</td><td>null</td><td>null</td><td>null</td><td>null</td><td>71898.0</td><td>2.0</td><td>1.0</td><td>null</td><td>null</td><td>0.0</td><td>380.0</td><td>null</td><td>90.0</td><td>null</td><td>1.6777215e7</td><td>null</td><td>1.0</td><td>263.0</td><td>1410.0</td><td>9.0</td><td>null</td><td>null</td></tr><tr><td>&quot;max&quot;</td><td>&quot;WW0716&quot;</td><td>&quot;WHEEL717&quot;</td><td>&quot;VIP&quot;</td><td>&quot;VIP&quot;</td><td>&quot;Z&quot;</td><td>&quot;Z&quot;</td><td>1503.0</td><td>1504.0</td><td>50.0</td><td>813095.0</td><td>null</td><td>&quot;HS&quot;</td><td>&quot;Y&quot;</td><td>8.0</td><td>&quot;Y&quot;</td><td>&quot;N&quot;</td><td>&quot;Y&quot;</td><td>331.5</td><td>2047.5</td><td>331.5</td><td>2047.5</td><td>&quot;*&quot;</td><td>1.0</td><td>0.0</td><td>null</td><td>519.0</td><td>2000.0</td><td>10.0</td><td>132.0</td><td>137.5</td><td>0.0</td><td>0.0</td><td>0.0</td><td>0.0</td><td>0.0</td><td>0.0</td><td>519.0</td><td>2047.5</td><td>&quot;Window Account&quot;</td><td>null</td><td>&quot;2022-07-17&quot;</td><td>-4.0</td><td>&quot;Default Account Rep&quot;</td><td>&quot;Volunteers Group 3&quot;</td><td>&quot;Variable Pricing&quot;</td><td>null</td><td>null</td><td>null</td><td>null</td><td>&quot;GEN&quot;</td><td>null</td><td>120925.0</td><td>73.0</td><td>12.0</td><td>null</td><td>&quot;22WW&quot;</td><td>1.0</td><td>740.0</td><td>&quot;VIP&quot;</td><td>370.0</td><td>&quot;@ NN&quot;</td><td>1.6777215e7</td><td>&quot;inet01&quot;</td><td>1.0</td><td>331.0</td><td>1872.0</td><td>126.0</td><td>null</td><td>&quot;N&quot;</td></tr></tbody></table></div>"
      ],
      "text/plain": [
       "shape: (9, 70)\n",
       "┌───────────┬───────────┬───────────┬───────────┬───┬───────────┬──────────┬───────────┬───────────┐\n",
       "│ statistic ┆ event_nam ┆ tm_event_ ┆ section_n ┆ … ┆ section_i ┆ row_id   ┆ privacy_r ┆ privacy_o │\n",
       "│ ---       ┆ e         ┆ name      ┆ ame       ┆   ┆ d         ┆ ---      ┆ estrict   ┆ pt_out    │\n",
       "│ str       ┆ ---       ┆ ---       ┆ ---       ┆   ┆ ---       ┆ f64      ┆ ---       ┆ ---       │\n",
       "│           ┆ str       ┆ str       ┆ str       ┆   ┆ f64       ┆          ┆ f64       ┆ str       │\n",
       "╞═══════════╪═══════════╪═══════════╪═══════════╪═══╪═══════════╪══════════╪═══════════╪═══════════╡\n",
       "│ count     ┆ 102577    ┆ 102577    ┆ 102577    ┆ … ┆ 102577.0  ┆ 102577.0 ┆ 0.0       ┆ 47524     │\n",
       "│ null_coun ┆ 0         ┆ 0         ┆ 0         ┆ … ┆ 0.0       ┆ 0.0      ┆ 102577.0  ┆ 55053     │\n",
       "│ t         ┆           ┆           ┆           ┆   ┆           ┆          ┆           ┆           │\n",
       "│ mean      ┆ null      ┆ null      ┆ null      ┆ … ┆ 862.58831 ┆ 7.369371 ┆ null      ┆ null      │\n",
       "│           ┆           ┆           ┆           ┆   ┆ 9         ┆          ┆           ┆           │\n",
       "│ std       ┆ null      ┆ null      ┆ null      ┆ … ┆ 545.15484 ┆ 7.149504 ┆ null      ┆ null      │\n",
       "│           ┆           ┆           ┆           ┆   ┆ 3         ┆          ┆           ┆           │\n",
       "│ min       ┆ 22AIR     ┆ 22AIR     ┆ 101       ┆ … ┆ 2.0       ┆ 1.0      ┆ null      ┆ N         │\n",
       "│ 25%       ┆ null      ┆ null      ┆ null      ┆ … ┆ 439.0     ┆ 3.0      ┆ null      ┆ null      │\n",
       "│ 50%       ┆ null      ┆ null      ┆ null      ┆ … ┆ 843.0     ┆ 6.0      ┆ null      ┆ null      │\n",
       "│ 75%       ┆ null      ┆ null      ┆ null      ┆ … ┆ 1410.0    ┆ 9.0      ┆ null      ┆ null      │\n",
       "│ max       ┆ WW0716    ┆ WHEEL717  ┆ VIP       ┆ … ┆ 1872.0    ┆ 126.0    ┆ null      ┆ N         │\n",
       "└───────────┴───────────┴───────────┴───────────┴───┴───────────┴──────────┴───────────┴───────────┘"
      ]
     },
     "execution_count": 8,
     "metadata": {},
     "output_type": "execute_result"
    }
   ],
   "source": [
    "df_tsr2 = pl.read_excel(\"ticket_sales_report2.xlsx\")\n",
    "df_tsr2.describe()"
   ]
  },
  {
   "cell_type": "code",
   "execution_count": 16,
   "id": "088f7dd3-254c-4cf3-b702-acf4c35aca08",
   "metadata": {},
   "outputs": [
    {
     "data": {
      "text/html": [
       "<div><style>\n",
       ".dataframe > thead > tr,\n",
       ".dataframe > tbody > tr {\n",
       "  text-align: right;\n",
       "  white-space: pre-wrap;\n",
       "}\n",
       "</style>\n",
       "<small>shape: (1, 69)</small><table border=\"1\" class=\"dataframe\"><thead><tr><th>event_name</th><th>tm_event_name</th><th>section_name</th><th>tm_section_name</th><th>row_name</th><th>tm_row_name</th><th>seat_num</th><th>last_seat</th><th>num_seats</th><th>acct_id</th><th>name</th><th>price_code</th><th>paid</th><th>printed</th><th>group_flag</th><th>consignment</th><th>comp</th><th>full_price</th><th>block_full_price</th><th>purchase_price</th><th>block_purchase_price</th><th>disc_code</th><th>pricing_total_events</th><th>disc_amount</th><th>surchg_code</th><th>surchg_amount</th><th>pc_ticket</th><th>pc_tax</th><th>pc_licfee</th><th>pc_other1</th><th>pc_other2</th><th>pc_other3</th><th>pc_other4</th><th>pc_other5</th><th>pc_other6</th><th>pc_other7</th><th>pc_other8</th><th>paid_amount</th><th>acct_type_desc</th><th>tag</th><th>add_datetime</th><th>acct_rep_id</th><th>acct_rep_full_name</th><th>ticket_type</th><th>ticket_type_category</th><th>retail_mask</th><th>retail_ticket_type</th><th>retail_qualifiers</th><th>retail_price_level</th><th>ledger_code</th><th>sub_plan_event_name</th><th>order_num</th><th>order_line_item</th><th>order_line_item_seq</th><th>sales_source_name</th><th>plan_event_name</th><th>event_sort</th><th>section_sort</th><th>section_name_right</th><th>row_sort</th><th>row_name_right</th><th>pc_color</th><th>add_usr</th><th>seat_increment</th><th>event_id</th><th>section_id</th><th>row_id</th><th>privacy_restrict</th><th>privacy_opt_out</th></tr><tr><td>u32</td><td>u32</td><td>u32</td><td>u32</td><td>u32</td><td>u32</td><td>u32</td><td>u32</td><td>u32</td><td>u32</td><td>u32</td><td>u32</td><td>u32</td><td>u32</td><td>u32</td><td>u32</td><td>u32</td><td>u32</td><td>u32</td><td>u32</td><td>u32</td><td>u32</td><td>u32</td><td>u32</td><td>u32</td><td>u32</td><td>u32</td><td>u32</td><td>u32</td><td>u32</td><td>u32</td><td>u32</td><td>u32</td><td>u32</td><td>u32</td><td>u32</td><td>u32</td><td>u32</td><td>u32</td><td>u32</td><td>u32</td><td>u32</td><td>u32</td><td>u32</td><td>u32</td><td>u32</td><td>u32</td><td>u32</td><td>u32</td><td>u32</td><td>u32</td><td>u32</td><td>u32</td><td>u32</td><td>u32</td><td>u32</td><td>u32</td><td>u32</td><td>u32</td><td>u32</td><td>u32</td><td>u32</td><td>u32</td><td>u32</td><td>u32</td><td>u32</td><td>u32</td><td>u32</td><td>u32</td></tr></thead><tbody><tr><td>102577</td><td>102577</td><td>102577</td><td>102577</td><td>102577</td><td>102577</td><td>102577</td><td>102577</td><td>102577</td><td>102577</td><td>0</td><td>102577</td><td>102577</td><td>102577</td><td>102577</td><td>102577</td><td>102577</td><td>102577</td><td>102577</td><td>102577</td><td>102577</td><td>14747</td><td>102577</td><td>102577</td><td>0</td><td>102577</td><td>102577</td><td>102577</td><td>102577</td><td>102577</td><td>102577</td><td>102577</td><td>102577</td><td>102577</td><td>102577</td><td>102577</td><td>102577</td><td>102577</td><td>102577</td><td>0</td><td>102577</td><td>102577</td><td>102577</td><td>102577</td><td>95417</td><td>0</td><td>0</td><td>0</td><td>0</td><td>95598</td><td>0</td><td>95598</td><td>95598</td><td>95598</td><td>0</td><td>23030</td><td>102577</td><td>102577</td><td>102577</td><td>102577</td><td>102577</td><td>102577</td><td>102577</td><td>102577</td><td>102577</td><td>102577</td><td>102577</td><td>0</td><td>47524</td></tr></tbody></table></div>"
      ],
      "text/plain": [
       "shape: (1, 69)\n",
       "┌────────────┬────────────┬───────────┬───────────┬───┬───────────┬────────┬───────────┬───────────┐\n",
       "│ event_name ┆ tm_event_n ┆ section_n ┆ tm_sectio ┆ … ┆ section_i ┆ row_id ┆ privacy_r ┆ privacy_o │\n",
       "│ ---        ┆ ame        ┆ ame       ┆ n_name    ┆   ┆ d         ┆ ---    ┆ estrict   ┆ pt_out    │\n",
       "│ u32        ┆ ---        ┆ ---       ┆ ---       ┆   ┆ ---       ┆ u32    ┆ ---       ┆ ---       │\n",
       "│            ┆ u32        ┆ u32       ┆ u32       ┆   ┆ u32       ┆        ┆ u32       ┆ u32       │\n",
       "╞════════════╪════════════╪═══════════╪═══════════╪═══╪═══════════╪════════╪═══════════╪═══════════╡\n",
       "│ 102577     ┆ 102577     ┆ 102577    ┆ 102577    ┆ … ┆ 102577    ┆ 102577 ┆ 0         ┆ 47524     │\n",
       "└────────────┴────────────┴───────────┴───────────┴───┴───────────┴────────┴───────────┴───────────┘"
      ]
     },
     "execution_count": 16,
     "metadata": {},
     "output_type": "execute_result"
    }
   ],
   "source": [
    "df_tsr2.unique().count()"
   ]
  },
  {
   "cell_type": "code",
   "execution_count": 19,
   "id": "ddb3ce9a-092f-44ed-a940-01cda6926abf",
   "metadata": {},
   "outputs": [
    {
     "data": {
      "text/html": [
       "<div><style>\n",
       ".dataframe > thead > tr,\n",
       ".dataframe > tbody > tr {\n",
       "  text-align: right;\n",
       "  white-space: pre-wrap;\n",
       "}\n",
       "</style>\n",
       "<small>shape: (5, 69)</small><table border=\"1\" class=\"dataframe\"><thead><tr><th>event_name</th><th>tm_event_name</th><th>section_name</th><th>tm_section_name</th><th>row_name</th><th>tm_row_name</th><th>seat_num</th><th>last_seat</th><th>num_seats</th><th>acct_id</th><th>name</th><th>price_code</th><th>paid</th><th>printed</th><th>group_flag</th><th>consignment</th><th>comp</th><th>full_price</th><th>block_full_price</th><th>purchase_price</th><th>block_purchase_price</th><th>disc_code</th><th>pricing_total_events</th><th>disc_amount</th><th>surchg_code</th><th>surchg_amount</th><th>pc_ticket</th><th>pc_tax</th><th>pc_licfee</th><th>pc_other1</th><th>pc_other2</th><th>pc_other3</th><th>pc_other4</th><th>pc_other5</th><th>pc_other6</th><th>pc_other7</th><th>pc_other8</th><th>paid_amount</th><th>acct_type_desc</th><th>tag</th><th>add_datetime</th><th>acct_rep_id</th><th>acct_rep_full_name</th><th>ticket_type</th><th>ticket_type_category</th><th>retail_mask</th><th>retail_ticket_type</th><th>retail_qualifiers</th><th>retail_price_level</th><th>ledger_code</th><th>sub_plan_event_name</th><th>order_num</th><th>order_line_item</th><th>order_line_item_seq</th><th>sales_source_name</th><th>plan_event_name</th><th>event_sort</th><th>section_sort</th><th>section_name_right</th><th>row_sort</th><th>row_name_right</th><th>pc_color</th><th>add_usr</th><th>seat_increment</th><th>event_id</th><th>section_id</th><th>row_id</th><th>privacy_restrict</th><th>privacy_opt_out</th></tr><tr><td>str</td><td>str</td><td>str</td><td>str</td><td>str</td><td>str</td><td>i64</td><td>i64</td><td>i64</td><td>i64</td><td>null</td><td>str</td><td>str</td><td>i64</td><td>str</td><td>str</td><td>str</td><td>f64</td><td>f64</td><td>f64</td><td>f64</td><td>str</td><td>i64</td><td>i64</td><td>null</td><td>f64</td><td>f64</td><td>i64</td><td>f64</td><td>f64</td><td>i64</td><td>i64</td><td>i64</td><td>i64</td><td>i64</td><td>i64</td><td>f64</td><td>f64</td><td>str</td><td>null</td><td>date</td><td>i64</td><td>str</td><td>str</td><td>str</td><td>null</td><td>null</td><td>null</td><td>null</td><td>str</td><td>null</td><td>i64</td><td>i64</td><td>i64</td><td>null</td><td>str</td><td>i64</td><td>i64</td><td>str</td><td>i64</td><td>str</td><td>i64</td><td>str</td><td>i64</td><td>i64</td><td>i64</td><td>i64</td><td>null</td><td>str</td></tr></thead><tbody><tr><td>&quot;22AIR&quot;</td><td>&quot;22AIR&quot;</td><td>&quot;GA2&quot;</td><td>&quot;GA2&quot;</td><td>&quot;GA3&quot;</td><td>&quot;GA3&quot;</td><td>163</td><td>164</td><td>2</td><td>161256</td><td>null</td><td>&quot;DP&quot;</td><td>&quot;Y&quot;</td><td>0</td><td>&quot;N&quot;</td><td>&quot;N&quot;</td><td>&quot;N&quot;</td><td>79.0</td><td>158.0</td><td>79.0</td><td>158.0</td><td>null</td><td>1</td><td>0</td><td>null</td><td>0.0</td><td>128.0</td><td>0</td><td>20.0</td><td>10.0</td><td>0</td><td>0</td><td>0</td><td>0</td><td>0</td><td>0</td><td>0.0</td><td>158.0</td><td>&quot;Personal&quot;</td><td>null</td><td>2021-08-18</td><td>-4</td><td>&quot;Default Account Rep&quot;</td><td>&quot;Package&quot;</td><td>&quot;Full Price&quot;</td><td>null</td><td>null</td><td>null</td><td>null</td><td>&quot;GEN&quot;</td><td>null</td><td>6618</td><td>1</td><td>1</td><td>null</td><td>&quot;22AIR&quot;</td><td>0</td><td>120</td><td>&quot;GA   2&quot;</td><td>40</td><td>&quot;@ GA   3&quot;</td><td>8454016</td><td>&quot;inet01&quot;</td><td>1</td><td>12</td><td>43</td><td>4</td><td>null</td><td>&quot;N&quot;</td></tr><tr><td>&quot;22ARCHCT&quot;</td><td>&quot;22ARCHCT&quot;</td><td>&quot;GA2&quot;</td><td>&quot;GA2&quot;</td><td>&quot;GA1&quot;</td><td>&quot;GA1&quot;</td><td>189</td><td>189</td><td>1</td><td>163364</td><td>null</td><td>&quot;DP&quot;</td><td>&quot;Y&quot;</td><td>0</td><td>&quot;N&quot;</td><td>&quot;N&quot;</td><td>&quot;N&quot;</td><td>29.2</td><td>29.2</td><td>29.2</td><td>29.2</td><td>null</td><td>1</td><td>0</td><td>null</td><td>0.0</td><td>23.2</td><td>0</td><td>4.0</td><td>2.0</td><td>0</td><td>0</td><td>0</td><td>0</td><td>0</td><td>0</td><td>0.0</td><td>29.2</td><td>&quot;Personal&quot;</td><td>null</td><td>2021-10-06</td><td>-4</td><td>&quot;Default Account Rep&quot;</td><td>&quot;Package&quot;</td><td>&quot;Full Price&quot;</td><td>null</td><td>null</td><td>null</td><td>null</td><td>&quot;GEN&quot;</td><td>null</td><td>7425</td><td>1</td><td>1</td><td>null</td><td>&quot;22ARCHCT&quot;</td><td>0</td><td>120</td><td>&quot;GA   2&quot;</td><td>20</td><td>&quot;@ GA   1&quot;</td><td>8454016</td><td>&quot;inet01&quot;</td><td>1</td><td>1</td><td>13</td><td>2</td><td>null</td><td>&quot;N&quot;</td></tr><tr><td>&quot;22ARCHCT&quot;</td><td>&quot;22ARCHCT&quot;</td><td>&quot;GA2&quot;</td><td>&quot;GA2&quot;</td><td>&quot;GA1&quot;</td><td>&quot;GA1&quot;</td><td>190</td><td>192</td><td>3</td><td>181297</td><td>null</td><td>&quot;DP&quot;</td><td>&quot;Y&quot;</td><td>0</td><td>&quot;N&quot;</td><td>&quot;N&quot;</td><td>&quot;N&quot;</td><td>29.2</td><td>87.6</td><td>29.2</td><td>87.6</td><td>null</td><td>1</td><td>0</td><td>null</td><td>0.0</td><td>69.6</td><td>0</td><td>12.0</td><td>6.0</td><td>0</td><td>0</td><td>0</td><td>0</td><td>0</td><td>0</td><td>0.0</td><td>87.6</td><td>&quot;Personal&quot;</td><td>null</td><td>2021-11-12</td><td>-4</td><td>&quot;Default Account Rep&quot;</td><td>&quot;Package&quot;</td><td>&quot;Full Price&quot;</td><td>null</td><td>null</td><td>null</td><td>null</td><td>&quot;GEN&quot;</td><td>null</td><td>8149</td><td>1</td><td>1</td><td>null</td><td>&quot;22ARCHCT&quot;</td><td>0</td><td>120</td><td>&quot;GA   2&quot;</td><td>20</td><td>&quot;@ GA   1&quot;</td><td>8454016</td><td>&quot;inet01&quot;</td><td>1</td><td>1</td><td>13</td><td>2</td><td>null</td><td>&quot;N&quot;</td></tr><tr><td>&quot;22ARCHCT&quot;</td><td>&quot;22ARCHCT&quot;</td><td>&quot;GA2&quot;</td><td>&quot;GA2&quot;</td><td>&quot;GA1&quot;</td><td>&quot;GA1&quot;</td><td>181</td><td>184</td><td>4</td><td>107900</td><td>null</td><td>&quot;DP&quot;</td><td>&quot;Y&quot;</td><td>0</td><td>&quot;N&quot;</td><td>&quot;N&quot;</td><td>&quot;N&quot;</td><td>29.2</td><td>116.8</td><td>29.2</td><td>116.8</td><td>null</td><td>1</td><td>0</td><td>null</td><td>0.0</td><td>92.8</td><td>0</td><td>16.0</td><td>8.0</td><td>0</td><td>0</td><td>0</td><td>0</td><td>0</td><td>0</td><td>0.0</td><td>116.8</td><td>&quot;Personal&quot;</td><td>null</td><td>2021-07-07</td><td>-4</td><td>&quot;Default Account Rep&quot;</td><td>&quot;Package&quot;</td><td>&quot;Full Price&quot;</td><td>null</td><td>null</td><td>null</td><td>null</td><td>&quot;GEN&quot;</td><td>null</td><td>1989</td><td>3</td><td>1</td><td>null</td><td>&quot;22ARCHCT&quot;</td><td>0</td><td>120</td><td>&quot;GA   2&quot;</td><td>20</td><td>&quot;@ GA   1&quot;</td><td>8454016</td><td>&quot;inet01&quot;</td><td>1</td><td>1</td><td>13</td><td>2</td><td>null</td><td>&quot;N&quot;</td></tr><tr><td>&quot;22ARCHCT&quot;</td><td>&quot;22ARCHCT&quot;</td><td>&quot;GA2&quot;</td><td>&quot;GA2&quot;</td><td>&quot;GA9&quot;</td><td>&quot;GA9&quot;</td><td>151</td><td>151</td><td>1</td><td>190299</td><td>null</td><td>&quot;DP&quot;</td><td>&quot;Y&quot;</td><td>0</td><td>&quot;N&quot;</td><td>&quot;N&quot;</td><td>&quot;N&quot;</td><td>29.2</td><td>29.2</td><td>29.2</td><td>29.2</td><td>null</td><td>1</td><td>0</td><td>null</td><td>0.0</td><td>23.2</td><td>0</td><td>4.0</td><td>2.0</td><td>0</td><td>0</td><td>0</td><td>0</td><td>0</td><td>0</td><td>0.0</td><td>29.2</td><td>&quot;Personal&quot;</td><td>null</td><td>2021-12-31</td><td>-4</td><td>&quot;Default Account Rep&quot;</td><td>&quot;Package&quot;</td><td>&quot;Full Price&quot;</td><td>null</td><td>null</td><td>null</td><td>null</td><td>&quot;GEN&quot;</td><td>null</td><td>10802</td><td>3</td><td>1</td><td>null</td><td>&quot;22ARCHCT&quot;</td><td>0</td><td>120</td><td>&quot;GA   2&quot;</td><td>100</td><td>&quot;@ GA   9&quot;</td><td>8454016</td><td>&quot;inet01&quot;</td><td>1</td><td>1</td><td>13</td><td>10</td><td>null</td><td>&quot;N&quot;</td></tr></tbody></table></div>"
      ],
      "text/plain": [
       "shape: (5, 69)\n",
       "┌────────────┬────────────┬───────────┬───────────┬───┬───────────┬────────┬───────────┬───────────┐\n",
       "│ event_name ┆ tm_event_n ┆ section_n ┆ tm_sectio ┆ … ┆ section_i ┆ row_id ┆ privacy_r ┆ privacy_o │\n",
       "│ ---        ┆ ame        ┆ ame       ┆ n_name    ┆   ┆ d         ┆ ---    ┆ estrict   ┆ pt_out    │\n",
       "│ str        ┆ ---        ┆ ---       ┆ ---       ┆   ┆ ---       ┆ i64    ┆ ---       ┆ ---       │\n",
       "│            ┆ str        ┆ str       ┆ str       ┆   ┆ i64       ┆        ┆ null      ┆ str       │\n",
       "╞════════════╪════════════╪═══════════╪═══════════╪═══╪═══════════╪════════╪═══════════╪═══════════╡\n",
       "│ 22AIR      ┆ 22AIR      ┆ GA2       ┆ GA2       ┆ … ┆ 43        ┆ 4      ┆ null      ┆ N         │\n",
       "│ 22ARCHCT   ┆ 22ARCHCT   ┆ GA2       ┆ GA2       ┆ … ┆ 13        ┆ 2      ┆ null      ┆ N         │\n",
       "│ 22ARCHCT   ┆ 22ARCHCT   ┆ GA2       ┆ GA2       ┆ … ┆ 13        ┆ 2      ┆ null      ┆ N         │\n",
       "│ 22ARCHCT   ┆ 22ARCHCT   ┆ GA2       ┆ GA2       ┆ … ┆ 13        ┆ 2      ┆ null      ┆ N         │\n",
       "│ 22ARCHCT   ┆ 22ARCHCT   ┆ GA2       ┆ GA2       ┆ … ┆ 13        ┆ 10     ┆ null      ┆ N         │\n",
       "└────────────┴────────────┴───────────┴───────────┴───┴───────────┴────────┴───────────┴───────────┘"
      ]
     },
     "execution_count": 19,
     "metadata": {},
     "output_type": "execute_result"
    }
   ],
   "source": [
    "df_tsr2.head(5)"
   ]
  },
  {
   "cell_type": "code",
   "execution_count": null,
   "id": "2c284e23-d63f-458d-8bea-190e93a6a6f3",
   "metadata": {},
   "outputs": [],
   "source": []
  }
 ],
 "metadata": {
  "kernelspec": {
   "display_name": "Python 3 (ipykernel)",
   "language": "python",
   "name": "python3"
  },
  "language_info": {
   "codemirror_mode": {
    "name": "ipython",
    "version": 3
   },
   "file_extension": ".py",
   "mimetype": "text/x-python",
   "name": "python",
   "nbconvert_exporter": "python",
   "pygments_lexer": "ipython3",
   "version": "3.10.12"
  }
 },
 "nbformat": 4,
 "nbformat_minor": 5
}
